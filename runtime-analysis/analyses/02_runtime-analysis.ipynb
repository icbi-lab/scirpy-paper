{
 "cells": [
  {
   "cell_type": "code",
   "execution_count": 1,
   "metadata": {},
   "outputs": [],
   "source": [
    "%load_ext autoreload\n",
    "%autoreload 2\n",
    "\n",
    "import pandas as pd\n",
    "import numpy as np\n",
    "import matplotlib.pyplot as plt\n",
    "import warnings\n",
    "import scirpy as ir\n",
    "from pathlib import Path\n",
    "from dateutil import parser\n",
    "from datetime import datetime\n",
    "\n",
    "warnings.filterwarnings('ignore', category=FutureWarning)\n",
    "\n",
    "plt.rcParams.update({'legend.fontsize': 'x-large',\n",
    "         'axes.labelsize': 'x-large',\n",
    "         'axes.titlesize':'x-large',\n",
    "         'xtick.labelsize':'large',\n",
    "         'ytick.labelsize':'large'})"
   ]
  },
  {
   "cell_type": "markdown",
   "metadata": {},
   "source": [
    "# Benchmark tcr_dist\n",
    "\n",
    " * The performance of `tcr_dist`, the function computing the alignment-distances, is limited by the number of unique TCR-alpha and -beta sequences\n",
    " * The function is in $O(n^2)$, where $n$ is the number of unique sequences"
   ]
  },
  {
   "cell_type": "code",
   "execution_count": 2,
   "metadata": {},
   "outputs": [],
   "source": [
    "adata = ir.datasets.wu2020()\n",
    "adata = adata[adata.obs[\"has_tcr\"] == \"True\", :]"
   ]
  },
  {
   "cell_type": "code",
   "execution_count": 3,
   "metadata": {},
   "outputs": [
    {
     "name": "stdout",
     "output_type": "stream",
     "text": [
      "Number of unique alpha sequences: 29905\n",
      "Fraction of unique alpha sequences: 0.31\n",
      "Number of unique beta sequences: 42668\n",
      "Fraction of unique beta sequences: 0.44\n"
     ]
    }
   ],
   "source": [
    "print(f\"Number of unique alpha sequences: {adata.obs['TRA_1_cdr3'].unique().size}\")\n",
    "print(f\"Fraction of unique alpha sequences: {adata.obs['TRA_1_cdr3'].unique().size / adata.shape[0]:.2f}\")\n",
    "print(f\"Number of unique beta sequences: {adata.obs['TRB_1_cdr3'].unique().size}\")\n",
    "print(f\"Fraction of unique beta sequences: {adata.obs['TRB_1_cdr3'].unique().size/adata.shape[0]:.2f}\")"
   ]
  },
  {
   "cell_type": "markdown",
   "metadata": {},
   "source": [
    " * -> We could expect a dataset of ~1M cells to have between 300k and 500k unique sequences\n",
    " * In the benchmark, we tested up to 300k unique sequences\n",
    " * Each dataset was ran on 16 cores on an Intel E5-2699A v4, 2.4 GHz CPU"
   ]
  },
  {
   "cell_type": "markdown",
   "metadata": {},
   "source": [
    " * parse the results from the `/usr/bin/time` command. "
   ]
  },
  {
   "cell_type": "code",
   "execution_count": 4,
   "metadata": {},
   "outputs": [],
   "source": [
    "results = Path(\"../results/02_tcr_dist\")\n",
    "perf = dict()\n",
    "for f in results.glob(\"timing_mem_*.txt\"):\n",
    "    n = int(f.stem.split(\"_\")[2])\n",
    "    perf[n] = dict()\n",
    "    with open(f, 'r') as fh:\n",
    "        for l in fh.readlines():\n",
    "            if \"Elapsed (wall clock) time\" in l:\n",
    "                time_str = l.split(': ')[1].strip().split(\".\")[0]\n",
    "                try:\n",
    "                    perf[n][\"wall_time\"] = datetime.strptime(time_str, \"%M:%S\")\n",
    "                except ValueError:\n",
    "                    perf[n][\"wall_time\"] = datetime.strptime(time_str, \"%H:%M:%S\")"
   ]
  },
  {
   "cell_type": "code",
   "execution_count": 5,
   "metadata": {},
   "outputs": [],
   "source": [
    "def get_time(dt):\n",
    "    \"\"\"in hours\"\"\"\n",
    "    return (dt.hour * 3600 + dt.minute * 60 + dt.second) / 3600"
   ]
  },
  {
   "cell_type": "code",
   "execution_count": 6,
   "metadata": {},
   "outputs": [
    {
     "data": {
      "text/plain": [
       "[3000, 5000, 10000, 20000, 50000, 100000, 200000, 300000]"
      ]
     },
     "execution_count": 6,
     "metadata": {},
     "output_type": "execute_result"
    }
   ],
   "source": [
    "ns = sorted(perf.keys())\n",
    "ns"
   ]
  },
  {
   "cell_type": "code",
   "execution_count": 7,
   "metadata": {},
   "outputs": [
    {
     "data": {
      "image/png": "[encoded data removed]",
      "text/plain": [
       "<Figure size 432x288 with 1 Axes>"
      ]
     },
     "metadata": {
      "needs_background": "light"
     },
     "output_type": "display_data"
    }
   ],
   "source": [
    "fig, ax = plt.subplots()\n",
    "ax.plot(ns, [get_time(perf[n][\"wall_time\"]) for n in ns], 'o-')\n",
    "ax.set_xlabel(\"number of unique sequences\")\n",
    "ax.set_ylabel(\"wall time (hours)\")\n",
    "fig.savefig(\"../../figures/runtime_tcr_dist.svg\")"
   ]
  },
  {
   "cell_type": "markdown",
   "metadata": {},
   "source": [
    "# Benchmark tcr_neighbors\n",
    "\n",
    "* `tcr_neighbors`, the function computing a cell x cell connectivity matrix, is limited by the number of edges in the connectivity graph.\n",
    "* Large clonotypes contribute most edges to the matrix (as they form a fully connected subgraph). "
   ]
  },
  {
   "cell_type": "code",
   "execution_count": 8,
   "metadata": {},
   "outputs": [],
   "source": [
    "results = Path(\"../results/04_tcr_neighbors\")\n",
    "perf = dict()\n",
    "for f in results.glob(\"timing_mem_adata_*.txt\"):\n",
    "    n = int(f.stem.split(\"_\")[3])\n",
    "    perf[n] = dict()\n",
    "    with open(f, 'r') as fh:\n",
    "        for l in fh.readlines():\n",
    "            if \"Elapsed (wall clock) time\" in l:\n",
    "                time_str = l.split(': ')[1].strip().split(\".\")[0]\n",
    "                try:\n",
    "                    perf[n][\"wall_time\"] = datetime.strptime(time_str, \"%M:%S\")\n",
    "                except ValueError:\n",
    "                    perf[n][\"wall_time\"] = datetime.strptime(time_str, \"%H:%M:%S\")"
   ]
  },
  {
   "cell_type": "code",
   "execution_count": 9,
   "metadata": {},
   "outputs": [
    {
     "data": {
      "text/plain": [
       "[16553,\n",
       " 32486,\n",
       " 87971,\n",
       " 176328,\n",
       " 263417,\n",
       " 282036,\n",
       " 359250,\n",
       " 445343,\n",
       " 541091,\n",
       " 632003,\n",
       " 724978,\n",
       " 816137,\n",
       " 907699,\n",
       " 996648,\n",
       " 1085999]"
      ]
     },
     "execution_count": 9,
     "metadata": {},
     "output_type": "execute_result"
    }
   ],
   "source": [
    "ns = sorted(perf.keys())\n",
    "ns"
   ]
  },
  {
   "cell_type": "code",
   "execution_count": 10,
   "metadata": {},
   "outputs": [
    {
     "data": {
      "image/png": "[encoded data removed]",
      "text/plain": [
       "<Figure size 432x288 with 1 Axes>"
      ]
     },
     "metadata": {
      "needs_background": "light"
     },
     "output_type": "display_data"
    }
   ],
   "source": [
    "fig, ax = plt.subplots()\n",
    "ax.plot(ns, [get_time(perf[n][\"wall_time\"]) for n in ns], 'o-')\n",
    "ax.set_xlabel(\"number of cells\", fontsize=16)\n",
    "ax.set_ylabel(\"wall time (hours)\")\n",
    "ax.ticklabel_format(style='plain')\n",
    "fig.savefig(\"../../figures/runtime_tcr_neighbors.svg\")"
   ]
  }
 ],
 "metadata": {
  "jupytext": {
   "formats": "md,ipynb",
   "text_representation": {
    "extension": ".md",
    "format_name": "markdown",
    "format_version": "1.2",
    "jupytext_version": "1.4.2"
   }
  },
  "kernelspec": {
   "display_name": "Python [conda env:.conda-scirpy_runtime_benchmark]",
   "language": "python",
   "name": "conda-env-.conda-scirpy_runtime_benchmark-py"
  },
  "language_info": {
   "codemirror_mode": {
    "name": "ipython",
    "version": 3
   },
   "file_extension": ".py",
   "mimetype": "text/x-python",
   "name": "python",
   "nbconvert_exporter": "python",
   "pygments_lexer": "ipython3",
   "version": "3.8.2"
  }
 },
 "nbformat": 4,
 "nbformat_minor": 4
}
