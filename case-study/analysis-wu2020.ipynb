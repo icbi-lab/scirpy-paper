{
 "cells": [
  {
   "cell_type": "markdown",
   "metadata": {},
   "source": [
    "# Analysis of 140k T cells from cancer"
   ]
  },
  {
   "cell_type": "markdown",
   "metadata": {
    "raw_mimetype": "text/restructuredtext"
   },
   "source": [
    "In this notebook, we re-analize single-cell TCR/RNA-seq data from [Wu et al. (2020)](https://www.nature.com/articles/s41586-020-2056-8)\n",
    "generated on the 10x Genomics platform. The original dataset consists of >140k T cells\n",
    "from 14 treatment-naive patients across four different types of cancer. Roughly 100k of the 140k cells have T-cell receptors."
   ]
  },
  {
   "cell_type": "markdown",
   "metadata": {},
   "source": [
    "## 0. Setup"
   ]
  },
  {
   "cell_type": "code",
   "execution_count": null,
   "metadata": {},
   "outputs": [],
   "source": [
    "%load_ext autoreload\n",
    "%autoreload 2\n",
    "import sys\n",
    "\n",
    "sys.path.append(\"../../scirpy/\")\n",
    "import scirpy as ir\n",
    "import pandas as pd\n",
    "import numpy as np\n",
    "import scanpy as sc\n",
    "import scipy as sp\n",
    "from matplotlib import pyplot as plt\n",
    "import matplotlib\n",
    "from weblogo.seq import SeqList, unambiguous_protein_alphabet\n",
    "from weblogo import png_formatter, svg_formatter, eps_formatter\n",
    "from weblogo import LogoData, LogoOptions, LogoFormat\n",
    "from IPython.display import Image, display\n",
    "sc.settings._vector_friendly = True\n",
    "\n",
    "# whether to run the alignment or use a cached version.\n",
    "# If `False` and the cached version is not available, will raise an error.\n",
    "run_alignment = False"
   ]
  },
  {
   "cell_type": "markdown",
   "metadata": {},
   "source": [
    "This notebook was run with scirpy commit `a73cf2bf46771eaf6072945d94f7a47fc3d80c52` and the following software versions:"
   ]
  },
  {
   "cell_type": "code",
   "execution_count": null,
   "metadata": {},
   "outputs": [],
   "source": [
    "sc.logging.print_versions()"
   ]
  },
  {
   "cell_type": "code",
   "execution_count": null,
   "metadata": {},
   "outputs": [],
   "source": [
    "def weblogo(seqs, title=\"\", format=\"png\"):\n",
    "    \"\"\"Draw a sequence logo from a list of amino acid sequences. \"\"\"\n",
    "    logodata = LogoData.from_seqs(SeqList(seqs, alphabet=unambiguous_protein_alphabet))\n",
    "    logooptions = LogoOptions(logo_title=title)\n",
    "    logoformat = LogoFormat(logodata, logooptions)\n",
    "    if format == \"png\":\n",
    "        display(Image(png_formatter(logodata, logoformat)))\n",
    "    elif format == \"eps\":\n",
    "        return eps_formatter(logodata, logoformat)"
   ]
  },
  {
   "cell_type": "code",
   "execution_count": null,
   "metadata": {},
   "outputs": [],
   "source": [
    "# colors from the paper\n",
    "colors = {\n",
    "    \"Tumor+NAT expanded\": \"#9458a2\",\n",
    "    \"Tumor singleton\": \"#ff8000\",\n",
    "    \"NAT singleton\": \"#f7f719\",\n",
    "    \"Tumor multiplet\": \"#eeb3cb\",\n",
    "    \"NAT multiplet\": \"#9cd0de\",\n",
    "    \"Blood singleton\": \"#cce70b\",\n",
    "    \"Blood multiplet\": \"#beac83\"\n",
    "}"
   ]
  },
  {
   "cell_type": "markdown",
   "metadata": {},
   "source": [
    "## 1. Preparing the data"
   ]
  },
  {
   "cell_type": "markdown",
   "metadata": {
    "raw_mimetype": "text/restructuredtext"
   },
   "source": [
    "The dataset ships with the `scirpy` package. We can conveniently load it from the `dataset` module."
   ]
  },
  {
   "cell_type": "code",
   "execution_count": null,
   "metadata": {},
   "outputs": [],
   "source": [
    "adata = ir.datasets.wu2020()"
   ]
  },
  {
   "cell_type": "code",
   "execution_count": null,
   "metadata": {},
   "outputs": [],
   "source": [
    "adata.shape"
   ]
  },
  {
   "cell_type": "markdown",
   "metadata": {},
   "source": [
    "We only keep the cells with TCR. ~96k cells remain."
   ]
  },
  {
   "cell_type": "code",
   "execution_count": null,
   "metadata": {},
   "outputs": [],
   "source": [
    "adata = adata[adata.obs[\"has_tcr\"] == \"True\", :]\n",
    "adata = adata[~(adata.obs[\"cluster_orig\"] == \"nan\"), :]"
   ]
  },
  {
   "cell_type": "code",
   "execution_count": null,
   "metadata": {},
   "outputs": [],
   "source": [
    "adata.shape"
   ]
  },
  {
   "cell_type": "code",
   "execution_count": null,
   "metadata": {},
   "outputs": [],
   "source": [
    "adata.obs.columns"
   ]
  },
  {
   "cell_type": "code",
   "execution_count": null,
   "metadata": {},
   "outputs": [],
   "source": [
    "adata.obs[\"counts\"] = adata.X.sum(axis=1).A1"
   ]
  },
  {
   "cell_type": "markdown",
   "metadata": {},
   "source": [
    "### Preprocess Transcriptomics data\n",
    "\n",
    "Transcriptomics data needs to be filtered and preprocessed as with any other single-cell dataset.\n",
    "We recommend following the [scanpy tutorial](https://scanpy-tutorials.readthedocs.io/en/latest/pbmc3k.html)\n",
    "and the best practice paper by [Luecken et al.](https://www.embopress.org/doi/10.15252/msb.20188746).\n",
    "For the _Wu et al. (2020)_ dataset, the authors already provide clusters and UMAP coordinates.\n",
    "Instead of performing clustering and cluster annotation ourselves, we will just use\n",
    "provided data."
   ]
  },
  {
   "cell_type": "code",
   "execution_count": null,
   "metadata": {},
   "outputs": [],
   "source": [
    "sc.pp.filter_genes(adata, min_cells=10)\n",
    "sc.pp.filter_cells(adata, min_genes=100)"
   ]
  },
  {
   "cell_type": "code",
   "execution_count": null,
   "metadata": {},
   "outputs": [],
   "source": [
    "sc.pp.normalize_per_cell(adata, counts_per_cell_after=1000)\n",
    "sc.pp.log1p(adata)"
   ]
  },
  {
   "cell_type": "code",
   "execution_count": null,
   "metadata": {},
   "outputs": [],
   "source": [
    "adata.obsm[\"X_umap\"] = adata.obsm[\"X_umap_orig\"]"
   ]
  },
  {
   "cell_type": "code",
   "execution_count": null,
   "metadata": {},
   "outputs": [],
   "source": [
    "mapping = {\n",
    "    \"3.1-MT\": \"other\",\n",
    "    \"4.1-Trm\": \"CD4_Trm\",\n",
    "    \"4.2-RPL32\": \"CD4_RPL32\",\n",
    "    \"4.3-TCF7\": \"CD4_TCF7\",\n",
    "    \"4.4-FOS\": \"CD4_FOSS\",\n",
    "    \"4.5-IL6ST\": \"CD4_IL6ST\",\n",
    "    \"4.6a-Treg\": \"CD4_Treg\",\n",
    "    \"4.6b-Treg\": \"CD4_Treg\",\n",
    "    \"8.1-Teff\": \"CD8_Teff\",\n",
    "    \"8.2-Tem\": \"CD8_Tem\",\n",
    "    \"8.3a-Trm\": \"CD8_Trm\",\n",
    "    \"8.3b-Trm\": \"CD8_Trm\",\n",
    "    \"8.3c-Trm\": \"CD8_Trm\",\n",
    "    \"8.4-Chrom\": \"other\",\n",
    "    \"8.5-Mitosis\": \"other\",\n",
    "    \"8.6-KLRB1\": \"other\",\n",
    "    \"nan\": \"nan\"\n",
    "}\n",
    "adata.obs[\"cluster\"] = [mapping[x] for x in adata.obs[\"cluster_orig\"]]"
   ]
  },
  {
   "cell_type": "markdown",
   "metadata": {},
   "source": [
    "Let's inspect the UMAP plots. The first three panels show the UMAP plot colored by sample, patient and cluster.\n",
    "We don't observe any clustering of samples or patients that could hint at batch effects.\n",
    "\n",
    "The lower three panels show the UMAP colored by the T cell markers _CD8_, _CD4_, and _FOXP3_.\n",
    "We can confirm that the markers correspond to their respective cluster labels."
   ]
  },
  {
   "cell_type": "code",
   "execution_count": null,
   "metadata": {},
   "outputs": [],
   "source": [
    "sc.pl.umap(adata, color=[\"sample\", \"patient\", \"cluster\", \"CD8A\", \"CD4\", \"FOXP3\"], ncols=2, wspace=.5)"
   ]
  },
  {
   "cell_type": "markdown",
   "metadata": {},
   "source": [
    "### TCR Quality Control"
   ]
  },
  {
   "cell_type": "markdown",
   "metadata": {
    "raw_mimetype": "text/restructuredtext"
   },
   "source": [
    "While most of T cell receptors have exactly one pair of α and β chains, up to one third of\n",
    "T cells can have *dual TCRs*, i.e. two pairs of receptors originating from different alleles ([Schuldt et al (2019)](https://doi.org/10.4049/jimmunol.1800904)).\n",
    "\n",
    "Using the `scirpy.tl.chain_pairing` function, we can add a summary\n",
    "about the T cell receptor compositions to `adata.obs`.\n",
    "\n",
    "\n",
    "- *Orphan chain* refers to cells that have either a single alpha or beta receptor chain.\n",
    "- *Extra chain* refers to cells that have a full alpha/beta receptor pair, and an additional chain.\n",
    "- *Multichain* refers to cells with more than two receptor pairs detected. These cells are likely doublets."
   ]
  },
  {
   "cell_type": "code",
   "execution_count": null,
   "metadata": {},
   "outputs": [],
   "source": [
    "%%time\n",
    "ir.tl.chain_pairing(adata)"
   ]
  },
  {
   "cell_type": "code",
   "execution_count": null,
   "metadata": {},
   "outputs": [],
   "source": [
    "ax = ir.pl.group_abundance(\n",
    "    adata, groupby=\"chain_pairing\", target_col=\"has_tcr\", fraction=\"has_tcr\"\n",
    ")\n",
    "ax.set_ylabel(\"fraction of cells\")\n",
    "ax.set_xlabel(\"chain pairing\")\n",
    "ax.set_title(\"\")\n",
    "fig = ax.get_figure()\n",
    "fig.savefig(\"figures/chain_pairing.svg\")"
   ]
  },
  {
   "cell_type": "code",
   "execution_count": null,
   "metadata": {},
   "outputs": [],
   "source": [
    "sc.pl.umap(adata,\n",
    "           color=\"chain_pairing\",\n",
    "           groups=[\"Extra beta\", \"Extra alpha\", \"Two full chains\"],\n",
    "           size=[10 if x in [\"Extra beta\", \"Extra alpha\", \"Two full chains\"] else 3 for x in adata.obs[\"chain_pairing\"]])"
   ]
  },
  {
   "cell_type": "markdown",
   "metadata": {},
   "source": [
    "Indeed, in this dataset, ~7% of cells have more than a one pair of productive T-cell receptors:"
   ]
  },
  {
   "cell_type": "code",
   "execution_count": null,
   "metadata": {},
   "outputs": [],
   "source": [
    "print(\"Fraction of cells with more than one pair of TCRs: {:.2f}\".format(\n",
    "    np.sum(adata.obs[\"chain_pairing\"].isin([\"Extra beta\", \"Extra alpha\", \"Two full chains\"])) / adata.n_obs\n",
    "))"
   ]
  },
  {
   "cell_type": "markdown",
   "metadata": {},
   "source": [
    "### Excluding multichain cells\n",
    "Next, we visualize the _Multichain_ cells on the UMAP plot and exclude them from downstream analysis.\n",
    "Multichain cells likely represent doublets. This is corroborated by the fact that they tend to\n",
    "have a very high number of detected transcripts."
   ]
  },
  {
   "cell_type": "code",
   "execution_count": null,
   "metadata": {},
   "outputs": [],
   "source": [
    "_, pvalue = sp.stats.mannwhitneyu(adata.obs.loc[adata.obs[\"multi_chain\"] == \"True\", \"counts\"].values, adata.obs.loc[adata.obs[\"multi_chain\"] == \"False\", \"counts\"].values)"
   ]
  },
  {
   "cell_type": "code",
   "execution_count": null,
   "metadata": {},
   "outputs": [],
   "source": [
    "fig, (ax1, ax2) =plt.subplots(1,2, figsize=(8, 4), gridspec_kw={'width_ratios': [2, 1]})\n",
    "sc.pl.umap(adata, color=\"chain_pairing\", groups=\"Multichain\", size=[30 if x == \"Multichain\" else 3 for x in adata.obs[\"chain_pairing\"]], ax=ax1, legend_loc=\"none\", show=False, frameon=False, title=\"Multichain UMAP\")\n",
    "sc.pl.violin(adata, \"counts\", \"multi_chain\", ax=ax2, show=False, inner=\"box\", stripplot=False)\n",
    "ax2.set_ylabel(\"detected reads\")\n",
    "ax2.set_xlabel(\"\")\n",
    "ax2.set_xticklabels([\"other\", \"multichain\"])\n",
    "ax2.set_title(\"detected reads per cell\")\n",
    "ax2.text(.3, 50000, f\"p={pvalue:.2E}\")\n",
    "plt.subplots_adjust(wspace=0.5)\n",
    "fig.savefig(\"figures/multichains.svg\", dpi=600)"
   ]
  },
  {
   "cell_type": "code",
   "execution_count": null,
   "metadata": {},
   "outputs": [],
   "source": [
    "adata.shape"
   ]
  },
  {
   "cell_type": "code",
   "execution_count": null,
   "metadata": {},
   "outputs": [],
   "source": [
    "adata = adata[adata.obs[\"chain_pairing\"] != \"Multichain\", :].copy()"
   ]
  },
  {
   "cell_type": "code",
   "execution_count": null,
   "metadata": {},
   "outputs": [],
   "source": [
    "adata.shape"
   ]
  },
  {
   "cell_type": "markdown",
   "metadata": {},
   "source": [
    "## 2. Define clonotypes\n",
    "\n",
    "Defining clonotypes in `scirpy` is a two-step procedure:\n",
    "\n",
    " 1. Computing a neighborhood graph based on CDR3 sequences\n",
    " 2. Finding connected submodules in the neighborhood graph and annotating them as clonotypes\n",
    "\n",
    "`scirpy` provides several metrics for creating the neighborhood graph. For instance, it is possible to choose between\n",
    "using nucleotide or amino acid CDR3 sequences, or using a sequence similarity metric based on multiple\n",
    "sequence alignments instead of requiring sequences to be identical."
   ]
  },
  {
   "cell_type": "code",
   "execution_count": null,
   "metadata": {},
   "outputs": [],
   "source": [
    "sc.settings.verbosity = 4"
   ]
  },
  {
   "cell_type": "markdown",
   "metadata": {},
   "source": [
    "### identical nucleotide sequences\n",
    "The authors of the dataset define the clonotypes on the nucleotide sequences and require all sequences of both receptor arms (and multiple chains in case of dual TCRs) to match."
   ]
  },
  {
   "cell_type": "code",
   "execution_count": null,
   "metadata": {},
   "outputs": [],
   "source": [
    "%%time\n",
    "ir.pp.tcr_neighbors(adata, receptor_arms=\"all\", dual_tcr=\"all\", cutoff=0, n_jobs=42, sequence=\"nt\", key_added=\"tcr_neighbors_nt\")"
   ]
  },
  {
   "cell_type": "code",
   "execution_count": null,
   "metadata": {},
   "outputs": [],
   "source": [
    "%%time\n",
    "ir.tl.define_clonotypes(adata, neighbors_key=\"tcr_neighbors_nt\", key_added=\"clonotype_nt\")"
   ]
  },
  {
   "cell_type": "markdown",
   "metadata": {},
   "source": [
    "### identical amino acid sequences\n",
    "Commonly, clonotypes are defined based on their amino acid sequence instead, because they recognize the same epitope. This is the `scirpy` default."
   ]
  },
  {
   "cell_type": "code",
   "execution_count": null,
   "metadata": {},
   "outputs": [],
   "source": [
    "%%time\n",
    "ir.pp.tcr_neighbors(adata, receptor_arms=\"all\", dual_tcr=\"all\", cutoff=0, n_jobs=42)"
   ]
  },
  {
   "cell_type": "code",
   "execution_count": null,
   "metadata": {},
   "outputs": [],
   "source": [
    "%%time\n",
    "ir.tl.define_clonotypes(adata, neighbors_key=\"tcr_neighbors\", key_added=\"clonotype\")"
   ]
  },
  {
   "cell_type": "markdown",
   "metadata": {},
   "source": [
    "### similar amino acid sequences\n",
    "\n",
    "With `scirpy`, it is possible to to one step further and summarize cells into the same clonotype that likely recognize the\n",
    "same epitope. This can be done by leveraging levenshtein or alignment distances. Here, we compute the alignment distance\n",
    "with a cutoff of 15, which is equivalent of three `A`s mutating into `R`."
   ]
  },
  {
   "cell_type": "code",
   "execution_count": null,
   "metadata": {},
   "outputs": [],
   "source": [
    "# adata.write_h5ad(\"./adata_in.h5ad\")"
   ]
  },
  {
   "cell_type": "code",
   "execution_count": null,
   "metadata": {},
   "outputs": [],
   "source": [
    "%%time\n",
    "if run_alignment:\n",
    "    ir.pp.tcr_neighbors(adata, receptor_arms=\"all\", dual_tcr=\"all\", cutoff=15, key_added=\"tcr_neighbors_al15\")\n",
    "    adata.write_h5ad(\"./adata_alignment.h5ad\")\n",
    "else:\n",
    "    # read cached version\n",
    "    adata = sc.read_h5ad(\"./adata_alignment.h5ad\")"
   ]
  },
  {
   "cell_type": "code",
   "execution_count": null,
   "metadata": {},
   "outputs": [],
   "source": [
    "%%time\n",
    "ir.tl.define_clonotypes(adata, neighbors_key=\"tcr_neighbors_al15\", key_added=\"clonotype_alignment\")"
   ]
  },
  {
   "cell_type": "markdown",
   "metadata": {
    "raw_mimetype": "text/restructuredtext"
   },
   "source": [
    "### Visualizing clonotype networks\n",
    "To visualize the network we first call `scirpy.tl.clonotype_network` to compute the layout.\n",
    "We can then visualize it using `scirpy.pl.clonotype_network`.\n",
    "\n",
    "The following plot visualizes all clonotypes with at least 50 cells. Each dot represents a cell,\n",
    "and each blob a clonotype. In the left panel each clonotype is labelled, in the right panel\n",
    "the clonotypes are colored by patient."
   ]
  },
  {
   "cell_type": "code",
   "execution_count": null,
   "metadata": {},
   "outputs": [],
   "source": [
    "%%time\n",
    "ir.tl.clonotype_network(adata, min_size=50, layout=\"components\")"
   ]
  },
  {
   "cell_type": "code",
   "execution_count": null,
   "metadata": {},
   "outputs": [],
   "source": [
    "ir.pl.clonotype_network(adata,\n",
    "                        color=[\"clonotype\", \"patient\"],\n",
    "                        edges=False, size=50, ncols=2,\n",
    "                        legend_fontoutline=2,\n",
    "                        legend_loc=[\"on data\", \"right margin\"])"
   ]
  },
  {
   "cell_type": "markdown",
   "metadata": {},
   "source": [
    "## 3. Clonotype consistency\n",
    "\n",
    "Before we dive into the analysis of clonal expansion, we compare the different approaches of clonotype definition.\n",
    "\n",
    "### 3.1 nucleotide based (scirpy vs. Wu et al.)\n",
    "In this section, we compare the clonotypes assigned by `scirpy` assigned to the clonotypes assigned by the authors of the study.\n",
    "The original clonotypes are stored in the `clonotype_orig` column of `obs`.\n",
    "\n",
    "According to the paper, the clonotypes are defined on nucleotide sequences and require sequence identity of all available chains.\n",
    "This should be equivalent of running `scirpy.tcr_neighbors` with `dual_tcr=\"all\"` and `receptor_arms=\"all\"`.\n",
    "\n",
    "To assess if the clonotype definitions are equivalent, we first check if there are *clonotypes in `clonotype_orig` that contain multiple clonotypes according to scirpy's definition*."
   ]
  },
  {
   "cell_type": "code",
   "execution_count": null,
   "metadata": {},
   "outputs": [],
   "source": [
    "# the clonotypes in clonotype_orig that contain multiple clonotype_nt\n",
    "nt_in_orig = adata.obs.groupby([\"clonotype_orig\", \"clonotype_nt\"]).size().reset_index().groupby(\"clonotype_orig\").size().reset_index()\n",
    "nt_in_orig[nt_in_orig[0] > 1]"
   ]
  },
  {
   "cell_type": "markdown",
   "metadata": {},
   "source": [
    "There are none!\n",
    "\n",
    "Next, we check if there are *clonotypes in `clonotype_nt` that contain multiple clonotypes according to the authors' definition.*"
   ]
  },
  {
   "cell_type": "code",
   "execution_count": null,
   "metadata": {},
   "outputs": [],
   "source": [
    "# the clonotypes in clonotype_nt that contain multiple clonotype_orig\n",
    "orig_in_nt = adata.obs.groupby([\"clonotype_nt\", \"clonotype_orig\"]).size().reset_index().groupby(\"clonotype_nt\").size().reset_index()\n",
    "with pd.option_context('display.max_rows', 8):\n",
    "    display(orig_in_nt[orig_in_nt[0] > 1])"
   ]
  },
  {
   "cell_type": "markdown",
   "metadata": {},
   "source": [
    "There are a few!\n",
    "\n",
    "Let's investigate that further:"
   ]
  },
  {
   "cell_type": "code",
   "execution_count": null,
   "metadata": {},
   "outputs": [],
   "source": [
    "with pd.option_context('display.max_rows', 10):\n",
    "    display(adata.obs.loc[\n",
    "        adata.obs[\"clonotype_nt\"].isin(orig_in_nt[orig_in_nt[0] > 1][\"clonotype_nt\"]),\n",
    "        [\"clonotype_nt\", \"clonotype_orig\", \"patient\", \"TRA_1_cdr3_nt\", \"TRA_2_cdr3_nt\", \"TRB_1_cdr3_nt\", \"TRB_2_cdr3_nt\"]\n",
    "    ].sort_values([\"clonotype_nt\", \"clonotype_orig\"]))"
   ]
  },
  {
   "cell_type": "markdown",
   "metadata": {},
   "source": [
    "All cells of the same `clonotype_nt` have the same nucleotide sequences (apart from swapping between `TRA_1` and `TRA_2` or `TRB_1` and `TRB_2`, respectively). Our method appears to work as expected.\n",
    "The inconsistencies seem to arise from the fact that the clonotypes have the same sequences, but originate from different patients. Apparently, the\n",
    "authors did not allow clonotypes from different patients (which makes sense when approaching clonotypes from a genomic point of view, not from an epitope recognition point of view).\n",
    "\n",
    "When checking the number of clonotypes_orig per clonotype_nt and patient, we eradicate the differences:"
   ]
  },
  {
   "cell_type": "code",
   "execution_count": null,
   "metadata": {},
   "outputs": [],
   "source": [
    "# the clonotypes in clonotype_nt that contain multiple clonotype_orig\n",
    "orig_in_nt = adata.obs.groupby([\"clonotype_nt\", \"patient\", \"clonotype_orig\"]).size().reset_index().groupby([\"clonotype_nt\", \"patient\"]).size().reset_index()\n",
    "with pd.option_context('display.max_rows', 8):\n",
    "    display(orig_in_nt[orig_in_nt[0] > 1])"
   ]
  },
  {
   "cell_type": "markdown",
   "metadata": {},
   "source": [
    "Now, also the number of clonotypes is consistent:"
   ]
  },
  {
   "cell_type": "code",
   "execution_count": null,
   "metadata": {},
   "outputs": [],
   "source": [
    "assert adata.obs[\"clonotype_orig\"].unique().size == adata.obs.groupby([\"patient\", \"clonotype_nt\"]).size().reset_index().shape[0]\n",
    "print(f\"\"\"Number of clonotypes according to Wu et al.: {adata.obs[\"clonotype_orig\"].unique().size}\"\"\")\n",
    "print(f\"\"\"Number of clonotypes according to scirpy: {adata.obs.groupby([\"clonotype_nt\"]).size().reset_index().shape[0]}\"\"\")\n",
    "print(f\"\"\"Number of clonotypes according to scirpy, within patient: {adata.obs.groupby([\"patient\", \"clonotype_nt\"]).size().reset_index().shape[0]}\"\"\")"
   ]
  },
  {
   "cell_type": "markdown",
   "metadata": {},
   "source": [
    "### 3.2 amino-acid vs. nucleotide-based"
   ]
  },
  {
   "cell_type": "markdown",
   "metadata": {},
   "source": [
    "For a few clonotypes, we observe differences comparing the amino-accid vs. nucleotide-based approach for defining clonotypes.\n",
    "Clonotypes with the same amino acid sequence but different nucleotide sequences recognize the same antigen -\n",
    "but derive from different antedescent cells. This can be an example of convergent evolution."
   ]
  },
  {
   "cell_type": "code",
   "execution_count": null,
   "metadata": {},
   "outputs": [],
   "source": [
    "ir.pl.clonotype_network(adata,\n",
    "                        color=[\"clonotype\", \"clonotype_nt\"],\n",
    "                        edges=False, size=50, ncols=2,\n",
    "                        legend_fontoutline=2,\n",
    "                        legend_loc=[\"on data\", \"none\"])"
   ]
  },
  {
   "cell_type": "markdown",
   "metadata": {},
   "source": [
    "Let's find the cells that belong to clonotypes that have different nucleotide sequences but the same amino acid sequences:"
   ]
  },
  {
   "cell_type": "code",
   "execution_count": null,
   "metadata": {},
   "outputs": [],
   "source": [
    "nt_in_aa = adata.obs.groupby([\"clonotype_nt\", \"clonotype\"]).size().reset_index().groupby([\"clonotype\"]).size().reset_index()\n",
    "convergent_clonotypes = nt_in_aa.loc[nt_in_aa[0] > 1, \"clonotype\"]"
   ]
  },
  {
   "cell_type": "code",
   "execution_count": null,
   "metadata": {},
   "outputs": [],
   "source": [
    "adata.obs[\"is_convergent\"] = [\"convergent\" if x else \"-\" for x in adata.obs[\"clonotype\"].isin(convergent_clonotypes)]"
   ]
  },
  {
   "cell_type": "code",
   "execution_count": null,
   "metadata": {},
   "outputs": [],
   "source": [
    "sc.pl.umap(adata, color=\"is_convergent\", groups=[\"convergent\"], size=[10 if x == \"convergent\" else 3 for x in adata.obs[\"is_convergent\"]])"
   ]
  },
  {
   "cell_type": "markdown",
   "metadata": {},
   "source": [
    "The phonomenon appears to primarily occur in CD8+ effector and tissue resident T cells:"
   ]
  },
  {
   "cell_type": "code",
   "execution_count": null,
   "metadata": {},
   "outputs": [],
   "source": [
    "ir.pl.group_abundance(adata, groupby=\"cluster\", target_col=\"is_convergent\", fraction=True)"
   ]
  },
  {
   "cell_type": "markdown",
   "metadata": {},
   "source": [
    "### 3.3 amino-acid identity vs. alignment distance\n",
    "When computing the alignment distance, we allowed a distance of `15`, based on the BLOSUM62 matrix.\n",
    "This is eqivalent of three `A`s mutating into `R`.\n",
    "\n",
    "The alignment distance allows us to identify similar CDR3 sequences, that likely recognize the same epitope.\n",
    "\n",
    "For the following visualization, we exclude cells with *Orphan* chains. Having only one chain that\n",
    "needs to match there tend to be a lot of similar cells within a distance of `15` resulting in\n",
    "large, uninformative networks for those cells."
   ]
  },
  {
   "cell_type": "code",
   "execution_count": null,
   "metadata": {},
   "outputs": [],
   "source": [
    "%%time\n",
    "adata_sub = adata[~adata.obs[\"chain_pairing\"].str.startswith(\"Orphan\"), :]"
   ]
  },
  {
   "cell_type": "code",
   "execution_count": null,
   "metadata": {},
   "outputs": [],
   "source": [
    "%%time\n",
    "ir.tl.clonotype_network(adata_sub, min_size=50, layout=\"components\", neighbors_key=\"tcr_neighbors_al15\", key_clonotype_size=\"clonotype_alignment_size\")"
   ]
  },
  {
   "cell_type": "markdown",
   "metadata": {},
   "source": [
    "We'll have a closer look at the following clonotypes, as they seem interesting:"
   ]
  },
  {
   "cell_type": "code",
   "execution_count": null,
   "metadata": {},
   "outputs": [],
   "source": [
    "selected_clonotypes = [\"10411\", \"5304\", \"1626\", \"632\"]"
   ]
  },
  {
   "cell_type": "code",
   "execution_count": null,
   "metadata": {},
   "outputs": [],
   "source": [
    "ir.pl.clonotype_network(adata_sub, color=[\"clonotype_alignment\"], groups=selected_clonotypes, edges=False, size=50, ncols=2, legend_loc=\"on data\", legend_fontoutline=3)"
   ]
  },
  {
   "cell_type": "code",
   "execution_count": null,
   "metadata": {},
   "outputs": [],
   "source": [
    "ir.pl.clonotype_network(adata_sub, color=[\"clonotype\", \"patient\"], edges=False, size=50, ncols=2, legend_loc=[\"none\", \"right margin\"], legend_fontoutline=2)"
   ]
  },
  {
   "cell_type": "code",
   "execution_count": null,
   "metadata": {},
   "outputs": [],
   "source": [
    "%%capture\n",
    "fig, ax = plt.subplots(figsize=(10, 10), dpi=300)\n",
    "ir.pl.clonotype_network(adata_sub, color=\"clonotype\", edges=False, size=50, legend_loc=\"none\", ax=ax, frameon=False)\n",
    "ax.set_title(\"clonotypes\")\n",
    "fig.savefig(\"figures/clonotype_network.svg\")"
   ]
  },
  {
   "cell_type": "markdown",
   "metadata": {},
   "source": [
    "The patient distribution of the four clonotypes:"
   ]
  },
  {
   "cell_type": "code",
   "execution_count": null,
   "metadata": {},
   "outputs": [],
   "source": [
    "ax = ir.pl.group_abundance(adata_sub[adata_sub.obs[\"clonotype_alignment\"].isin(selected_clonotypes), :], groupby=\"clonotype_alignment\", sort=selected_clonotypes, target_col=\"patient\")\n",
    "ax.xaxis.set_tick_params(rotation=0)\n",
    "for tick in ax.xaxis.get_majorticklabels():\n",
    "    tick.set_horizontalalignment(\"center\")\n",
    "ax.tick_params(labelsize=10)\n",
    "fig = ax.get_figure()\n",
    "ax.set_title(\"\")\n",
    "ax.set_xlabel(\"clonotype\")\n",
    "fig.savefig(\"figures/clonotype_network_patients.svg\")"
   ]
  },
  {
   "cell_type": "markdown",
   "metadata": {},
   "source": [
    "#### Sequence logos"
   ]
  },
  {
   "cell_type": "code",
   "execution_count": null,
   "metadata": {},
   "outputs": [],
   "source": [
    "for ct in selected_clonotypes:\n",
    "    for chain, chain_label in zip([\"TRA_1_cdr3\", \"TRB_1_cdr3\"], [\"alpha\", \"beta\"]):\n",
    "        with open(f\"figures/logo_ct_{ct}_{chain_label}.eps\", 'wb') as f:\n",
    "            f.write(weblogo(adata.obs.loc[adata.obs[\"clonotype_alignment\"] == ct, chain].values, title=f\"clonotype {ct}: {chain_label}-chain\", format=\"eps\"))"
   ]
  },
  {
   "cell_type": "code",
   "execution_count": null,
   "metadata": {},
   "outputs": [],
   "source": [
    "for ct in selected_clonotypes:\n",
    "    for chain, chain_label in zip([\"TRA_1_cdr3\", \"TRB_1_cdr3\"], [\"alpha\", \"beta\"]):\n",
    "        weblogo(adata.obs.loc[adata.obs[\"clonotype_alignment\"] == ct, chain].values, title=f\"clonotype {ct}: {chain_label}-chain\", format=\"png\")"
   ]
  },
  {
   "cell_type": "markdown",
   "metadata": {},
   "source": [
    "Clonotype `632` could is shared among multiple patients and could be specific for a common, viral antigen.\n",
    "\n",
    "In case of the clonotype `1261` epitope (which we didin't highlight above) we find evidence in *vdjdb* that it could be specific for an Human Cytomegalievirus (CMV) antigen:\n",
    " * In [vdjdb](https://vdjdb.cdr3.net/search), we find a CMV-specific alpha-chain searching with the `CAV[STR][LG]QAGTALIF` pattern.\n",
    " * Searching for the beta-chain pattern does not yield a direct result. However, allowing up to two substitutions, we find a CMV-specific chain as well."
   ]
  },
  {
   "cell_type": "markdown",
   "metadata": {},
   "source": [
    "#### convergent clonotypes\n",
    "We define a clonotype as being convergent, if there are different versions of nucleotide sequences for similar clonotypes, within the same patient.\n",
    "\n",
    "We define convergence\n",
    " * on the level of amino-acid identity vs nucleotide identity\n",
    " * on the level of amino-acid similarity vs nucleotide identity\n"
   ]
  },
  {
   "cell_type": "code",
   "execution_count": null,
   "metadata": {},
   "outputs": [],
   "source": [
    "convergent_aa = adata.obs.groupby([\"clonotype\", \"clonotype_alignment\", \"patient\"]).size().reset_index().groupby([\"clonotype_alignment\", \"patient\"]).size().reset_index()\n",
    "convergent_nt = adata.obs.groupby([\"clonotype_nt\", \"clonotype_alignment\", \"patient\"]).size().reset_index().groupby([\"clonotype_alignment\", \"patient\"]).size().reset_index()\n",
    "convergent_clonotypes_aa = convergent_aa.loc[convergent_aa[0] > 1, \"clonotype_alignment\"].values\n",
    "convergent_clonotypes_nt = convergent_nt.loc[convergent_nt[0] > 1, \"clonotype_alignment\"].values"
   ]
  },
  {
   "cell_type": "code",
   "execution_count": null,
   "metadata": {},
   "outputs": [],
   "source": [
    "# convergent clonotypes, AA identity vs alignment\n",
    "adata.obs[\"convergent_aa\"] = [str(x) for x in adata.obs[\"clonotype_alignment\"].isin(convergent_clonotypes_aa) & ~adata.obs[\"chain_pairing\"].str.startswith(\"Orphan\")]\n",
    "# convergent clonotypes, NN identity vs AA alignment\n",
    "adata.obs[\"convergent_nt\"] = [str(x) for x in adata.obs[\"clonotype_alignment\"].isin(convergent_clonotypes_nt) & ~adata.obs[\"chain_pairing\"].str.startswith(\"Orphan\")]"
   ]
  },
  {
   "cell_type": "code",
   "execution_count": null,
   "metadata": {},
   "outputs": [],
   "source": [
    "sc.pl.umap(adata, color=[\"convergent_aa\"], groups=\"True\", size=[10 if x == \"True\" else 3 for x in adata.obs[\"convergent_aa\"]])"
   ]
  },
  {
   "cell_type": "code",
   "execution_count": null,
   "metadata": {},
   "outputs": [],
   "source": [
    "sc.pl.umap(adata, color=[\"convergent_nt\"], groups=\"True\", size=[10 if x == \"True\" else 3 for x in adata.obs[\"convergent_nt\"]])"
   ]
  },
  {
   "cell_type": "code",
   "execution_count": null,
   "metadata": {},
   "outputs": [],
   "source": [
    "%%capture\n",
    "fig, ax = plt.subplots(figsize=(4,4), dpi=300)\n",
    "sc.pl.umap(adata, color=[\"convergent_nt\"], groups=\"True\", size=[10 if x == \"True\" else 3 for x in adata.obs[\"convergent_nt\"]], ax=ax, frameon=False, legend_loc=\"none\", show=False)\n",
    "ax.set_title(\"convergent clonotypes\")\n",
    "fig.savefig('figures/convergent_clonotypes_umap.svg')"
   ]
  },
  {
   "cell_type": "code",
   "execution_count": null,
   "metadata": {},
   "outputs": [],
   "source": [
    "ir.pl.group_abundance(adata, groupby=\"cluster_orig\", target_col=\"convergent_nt\", fraction=True, sort=\"alphabetical\", fig_kws={\"dpi\": 120})"
   ]
  },
  {
   "cell_type": "markdown",
   "metadata": {},
   "source": [
    "#### Inspecting only converged clonotypes"
   ]
  },
  {
   "cell_type": "code",
   "execution_count": null,
   "metadata": {},
   "outputs": [],
   "source": [
    "adata_converged = adata[(adata.obs[\"convergent_nt\"] == \"True\") & ~adata.obs[\"chain_pairing\"].str.startswith(\"Orphan\"), :]"
   ]
  },
  {
   "cell_type": "code",
   "execution_count": null,
   "metadata": {},
   "outputs": [],
   "source": [
    "%%time\n",
    "ir.tl.clonotype_network(adata_converged, min_size=1, layout=\"components\", neighbors_key=\"tcr_neighbors_al15\", key_clonotype_size=\"clonotype_alignment_size\")"
   ]
  },
  {
   "cell_type": "code",
   "execution_count": null,
   "metadata": {},
   "outputs": [],
   "source": [
    "ir.pl.clonotype_network(adata_converged, color=[\"clonotype_alignment\", \"clonotype_nt\"], edges=False, size=50, ncols=2, legend_loc=[\"none\", \"none\"], legend_fontoutline=2)"
   ]
  },
  {
   "cell_type": "markdown",
   "metadata": {},
   "source": [
    "## 4. Clonal expansion\n",
    "In this section, we assess the clonal expansion\n",
    "\n",
    " - across patients\n",
    " - across clusters\n",
    " - across tissue sources\n",
    "\n",
    "With the `pl.clonal_expansion` function, we can easily visualize the clonal expansion\n",
    "by different variables. Per default, the plot shows the fraction of\n",
    "cells belonging to an expanded clonotype.\n",
    "\n",
    "### clonal expansion across patients"
   ]
  },
  {
   "cell_type": "code",
   "execution_count": null,
   "metadata": {},
   "outputs": [],
   "source": [
    "fig, ax = plt.subplots(dpi=100)\n",
    "ir.pl.clonal_expansion(adata, groupby=\"patient\", summarize_by=\"cell\", show_nonexpanded=True, ax=ax)\n",
    "ax.tick_params(labelsize=10)\n",
    "fig.savefig(\"figures/expansion_patients_cell.svg\")"
   ]
  },
  {
   "cell_type": "markdown",
   "metadata": {},
   "source": [
    "Alternatively, we can show the *fraction of expanded clonotypes*."
   ]
  },
  {
   "cell_type": "code",
   "execution_count": null,
   "metadata": {},
   "outputs": [],
   "source": [
    "fig, ax = plt.subplots(dpi=100)\n",
    "ir.pl.clonal_expansion(adata, groupby=\"patient\", summarize_by=\"clonotype\", show_nonexpanded=False, colors=[\"#FF7F0E\", \"#2CA02C\"], ax=ax)\n",
    "ax.tick_params(labelsize=10)\n",
    "fig.savefig(\"figures/expansion_patients_clonotype.svg\")"
   ]
  },
  {
   "cell_type": "markdown",
   "metadata": {},
   "source": [
    "In the paper, the authors state that depending on the patient, between 9 and 18% of clonotypes\n",
    "are expanded. Our results are highly consistent with these results:"
   ]
  },
  {
   "cell_type": "code",
   "execution_count": null,
   "metadata": {},
   "outputs": [],
   "source": [
    "fraction_expanded = ir.tl.summarize_clonal_expansion(adata, groupby=\"patient\", summarize_by=\"clonotype\", normalize=True).drop(\"1\", axis=\"columns\").sum(axis=1)"
   ]
  },
  {
   "cell_type": "code",
   "execution_count": null,
   "metadata": {},
   "outputs": [],
   "source": [
    "print(f\"Between {min(fraction_expanded):.1%} and {max(fraction_expanded):.1%} of clonotypes are expanded.\")"
   ]
  },
  {
   "cell_type": "markdown",
   "metadata": {},
   "source": [
    "### clonal expansion across cell-type clusters\n",
    "We observe that clonal expansion is highest among the CD8+ T-cell clusters, in particular effector and tissue-resident T cells."
   ]
  },
  {
   "cell_type": "code",
   "execution_count": null,
   "metadata": {},
   "outputs": [],
   "source": [
    "ir.pl.clonal_expansion(adata, groupby=\"cluster_orig\", summarize_by=\"cell\", show_nonexpanded=True, fig_kws={\"dpi\": 120})"
   ]
  },
  {
   "cell_type": "markdown",
   "metadata": {},
   "source": [
    "### clonal expansion across tissue sources\n",
    "The fraction of expanded cell is roughly equivalent among tumor and ajacent normal tissue, but lower in\n",
    "blood."
   ]
  },
  {
   "cell_type": "code",
   "execution_count": null,
   "metadata": {},
   "outputs": [],
   "source": [
    "ir.pl.clonal_expansion(adata, groupby=\"source\", summarize_by=\"cell\", show_nonexpanded=True)"
   ]
  },
  {
   "cell_type": "markdown",
   "metadata": {},
   "source": [
    "## 5. Dual- and blood expanded clonotypes\n",
    "Finally, we will divide the clonotypes into different categories, based on their expansion in blood, tissue and tumor samples.\n",
    "\n",
    "In particular, we will\n",
    " * identify *dual-expanded* clonotypes, which are expanded in both adjacent tissue and tumor samples\n",
    " * identify blood-expanded clonotypes\n",
    "\n",
    "and compare their abundance across cell-types and patients.\n",
    "\n",
    "For an illustration, please refer to Fig. 1b of the *Wu et al. (2020)* paper."
   ]
  },
  {
   "cell_type": "code",
   "execution_count": null,
   "metadata": {},
   "outputs": [],
   "source": [
    "clonotype_size_by_source = adata.obs.groupby([\"patient\", \"source\", \"clonotype\"], observed=True).size().reset_index(name=\"clonotype_count_by_source\")\n",
    "adata.obs = adata.obs.reset_index().merge(clonotype_size_by_source, how=\"left\").set_index('index')"
   ]
  },
  {
   "cell_type": "code",
   "execution_count": null,
   "metadata": {},
   "outputs": [],
   "source": [
    "blood_expanded = []\n",
    "for is_expanded, source in zip((adata.obs[\"source\"] == \"Blood\") & (adata.obs[\"clonotype_count_by_source\"] > 1), adata.obs[\"source\"]):\n",
    "    if source == \"Blood\":\n",
    "        if is_expanded:\n",
    "            blood_expanded.append(\"expanded\")\n",
    "        else:\n",
    "            blood_expanded.append(\"not expanded\")\n",
    "    else:\n",
    "        blood_expanded.append(\"independent\")"
   ]
  },
  {
   "cell_type": "code",
   "execution_count": null,
   "metadata": {},
   "outputs": [],
   "source": [
    "adata.obs[\"blood_expanded\"] = blood_expanded"
   ]
  },
  {
   "cell_type": "code",
   "execution_count": null,
   "metadata": {},
   "outputs": [],
   "source": [
    "clonotype_membership = {ct: list() for ct in adata.obs[\"clonotype\"]}\n",
    "for clonotype, source in zip(adata.obs[\"clonotype\"], adata.obs[\"source\"]):\n",
    "    clonotype_membership[clonotype].append(source)\n",
    "clonotype_membership = {ct: set(sources) for ct, sources in clonotype_membership.items()}"
   ]
  },
  {
   "cell_type": "code",
   "execution_count": null,
   "metadata": {},
   "outputs": [],
   "source": [
    "expansion_category = []\n",
    "for clonotype, clonotype_size, source in zip(adata.obs[\"clonotype\"], adata.obs[\"clonotype_size\"], adata.obs[\"source\"]):\n",
    "    if clonotype_size == 1:\n",
    "        if source == \"Blood\":\n",
    "            expansion_category.append(\"Blood singleton\")\n",
    "        elif source == \"NAT\":\n",
    "            expansion_category.append(\"NAT singleton\")\n",
    "        elif source == \"Tumor\":\n",
    "            expansion_category.append(\"Tumor singleton\")\n",
    "    elif clonotype_size >1:\n",
    "        membership = clonotype_membership[clonotype]\n",
    "        if \"Tumor\" in membership and \"NAT\" in membership:\n",
    "            expansion_category.append(\"Tumor+NAT expanded\")\n",
    "        elif \"Tumor\"in membership:\n",
    "            expansion_category.append(\"Tumor multiplet\")\n",
    "        elif \"NAT\" in membership:\n",
    "            expansion_category.append(\"NAT multiplet\")\n",
    "        elif \"Blood\" in membership:\n",
    "            # these are *only* expanded in blood\n",
    "            expansion_category.append(\"Blood multiplet\")\n",
    "\n",
    "assert len(expansion_category) == adata.n_obs"
   ]
  },
  {
   "cell_type": "code",
   "execution_count": null,
   "metadata": {},
   "outputs": [],
   "source": [
    "adata.obs[\"cell_type\"] = adata.obs[\"cluster_orig\"].str[0]\n",
    "adata.obs[\"tumor_type\"] = adata.obs[\"patient\"].str[:-1]"
   ]
  },
  {
   "cell_type": "code",
   "execution_count": null,
   "metadata": {},
   "outputs": [],
   "source": [
    "adata.obs[\"expansion_category\"] = expansion_category"
   ]
  },
  {
   "cell_type": "code",
   "execution_count": null,
   "metadata": {},
   "outputs": [],
   "source": [
    "# make categorical and store colors\n",
    "adata._sanitize()\n",
    "adata.uns[\"expansion_category_colors\"] = [colors[x] for x in adata.obs[\"expansion_category\"].cat.categories]"
   ]
  },
  {
   "cell_type": "markdown",
   "metadata": {},
   "source": [
    "Mostly CD8+ effector and tissue-resident T cells are blood-expanded and dual-expanded:"
   ]
  },
  {
   "cell_type": "code",
   "execution_count": null,
   "metadata": {},
   "outputs": [],
   "source": [
    "sc.pl.umap(adata, color=\"blood_expanded\", groups=[\"expanded\", \"not expanded\"], size=[15 if x in [\"expanded\", \"not expanded\"] else 3 for x in adata.obs[\"blood_expanded\"]])"
   ]
  },
  {
   "cell_type": "code",
   "execution_count": null,
   "metadata": {},
   "outputs": [],
   "source": [
    "ir.pl.embedding(adata, basis=\"umap\", color=[\"expansion_category\", \"cluster_orig\"], legend_loc=[\"right margin\", \"on data\"], show=True, legend_fontoutline=2, frameon=False, wspace=.5, panel_size=(6, 4))"
   ]
  },
  {
   "cell_type": "code",
   "execution_count": null,
   "metadata": {},
   "outputs": [],
   "source": [
    "%%capture\n",
    "fig, (ax1, ax2) = plt.subplots(1, 2, figsize=(8.5, 4), dpi=300)\n",
    "sc.pl.umap(adata, color=\"expansion_category\", legend_loc=\"none\", show=False, ax=ax1, frameon=False)\n",
    "sc.pl.umap(adata, color=\"cluster_orig\", legend_loc=\"on data\", show=False, ax=ax2, legend_fontoutline=2, frameon=False)\n",
    "ax1.set_title(\"clonal expansion pattern\")\n",
    "ax2.set_title(\"cell-type cluster\")\n",
    "plt.subplots_adjust(wspace=.1)\n",
    "fig.savefig(\"figures/clonal_expansion_umap.svg\")"
   ]
  },
  {
   "cell_type": "code",
   "execution_count": null,
   "metadata": {},
   "outputs": [],
   "source": [
    "%%capture\n",
    "fig, ax = plt.subplots(figsize=(4, 4), dpi=300)\n",
    "sc.pl.umap(adata, color=\"cluster_orig\", legend_loc=\"none\", show=False, ax=ax, legend_fontoutline=2, frameon=False)\n",
    "ax.set_title(\"\")\n",
    "fig.savefig(\"figures/cluster_orig.png\")"
   ]
  },
  {
   "cell_type": "markdown",
   "metadata": {},
   "source": [
    "Categories by cell type (fractions and count):"
   ]
  },
  {
   "cell_type": "code",
   "execution_count": null,
   "metadata": {},
   "outputs": [],
   "source": [
    "ir.pl.group_abundance(\n",
    "    adata, groupby=\"cluster_orig\", target_col=\"expansion_category\", fraction=True, fig_kws={\"dpi\": 120}, sort=\"alphabetical\"\n",
    ")"
   ]
  },
  {
   "cell_type": "code",
   "execution_count": null,
   "metadata": {},
   "outputs": [],
   "source": [
    "fig, ax = plt.subplots(dpi=120)\n",
    "ir.pl.group_abundance(\n",
    "    adata, groupby=\"cluster_orig\", target_col=\"expansion_category\", fraction=False, ax=ax, sort=\"alphabetical\"\n",
    ")\n",
    "ax.set_title(\"\")\n",
    "ax.set_xlabel(\"cluster\")\n",
    "fig.savefig(\"figures/expansion_category_cluster.svg\")"
   ]
  },
  {
   "cell_type": "markdown",
   "metadata": {},
   "source": [
    "Categories by tumor type:"
   ]
  },
  {
   "cell_type": "code",
   "execution_count": null,
   "metadata": {},
   "outputs": [],
   "source": [
    "ir.pl.group_abundance(\n",
    "    adata, groupby=\"tumor_type\", target_col=\"expansion_category\", fraction=True\n",
    ")"
   ]
  },
  {
   "cell_type": "markdown",
   "metadata": {},
   "source": [
    "The fraction of blood-expanded, blood non-expanded and blood-independent cells\n",
    "for the four patients with blood samples"
   ]
  },
  {
   "cell_type": "code",
   "execution_count": null,
   "metadata": {},
   "outputs": [],
   "source": [
    "ir.pl.group_abundance(\n",
    "    adata[adata.obs[\"patient\"].isin([\"Lung6\", \"Renal1\", \"Renal2\", \"Renal3\"]), :],\n",
    "    groupby=\"patient\",\n",
    "    target_col=\"blood_expanded\",\n",
    "    fraction=True\n",
    ")"
   ]
  },
  {
   "cell_type": "markdown",
   "metadata": {},
   "source": [
    "Tissue infiltration patterns. The bar plots show the distribution of cells by tissue expansion patterns from\n",
    "blood-indpendned, non-expanded and expanded clones."
   ]
  },
  {
   "cell_type": "code",
   "execution_count": null,
   "metadata": {},
   "outputs": [],
   "source": [
    "for patient in [\"Lung6\", \"Renal1\", \"Renal2\", \"Renal3\"]:\n",
    "    ax = ir.pl.group_abundance(\n",
    "        adata[adata.obs[\"patient\"] == patient,:],\n",
    "        groupby=\"blood_expanded\",\n",
    "        target_col=\"expansion_category\",\n",
    "        fraction=True)\n",
    "    ax.set_title(patient)"
   ]
  },
  {
   "cell_type": "markdown",
   "metadata": {},
   "source": [
    "Tissue expansion patterns of T cell by cluster."
   ]
  },
  {
   "cell_type": "code",
   "execution_count": null,
   "metadata": {},
   "outputs": [],
   "source": [
    "for subset in [[\"NAT singleton\", \"NAT multiplet\"], [\"Tumor singleton\", \"Tumor multiplet\"]]:\n",
    "    ax = ir.pl.group_abundance(\n",
    "        adata[adata.obs[\"expansion_category\"].isin(subset),:],\n",
    "        groupby=\"cluster_orig\",\n",
    "        target_col=\"expansion_category\",\n",
    "        fraction=False,\n",
    "        fig_kws={\"dpi\": 120},\n",
    "        sort=\"alphabetical\"\n",
    "    )\n",
    "    ax.set_title(subset[0].split()[0])"
   ]
  },
  {
   "cell_type": "code",
   "execution_count": null,
   "metadata": {},
   "outputs": [],
   "source": [
    "for source in [\"NAT\", \"Tumor\"]:\n",
    "    ax = ir.pl.group_abundance(\n",
    "        adata[(adata.obs[\"source\"] == source) & (adata.obs[\"expansion_category\"] == \"Tumor+NAT expanded\"),:],\n",
    "        groupby=\"cluster_orig\",\n",
    "        target_col=\"expansion_category\",\n",
    "        fraction=False,\n",
    "        fig_kws={\"dpi\": 120},\n",
    "        sort=\"alphabetical\"\n",
    "    )\n",
    "    ax.set_title(source)"
   ]
  },
  {
   "cell_type": "markdown",
   "metadata": {},
   "source": [
    "## 6. Gene usage"
   ]
  },
  {
   "cell_type": "code",
   "execution_count": null,
   "metadata": {},
   "outputs": [],
   "source": [
    "ax = ir.pl.vdj_usage(adata, full_combination=False, top_n=30)\n",
    "ax.set_ylabel(\"cells\")\n",
    "ax.set_xlabel(\"VDJ segment\")\n",
    "ax.set_title(\"VDJ usage\")\n",
    "fig = ax.get_figure()\n",
    "fig.savefig(\"figures/vdj_usage.svg\")"
   ]
  },
  {
   "cell_type": "code",
   "execution_count": null,
   "metadata": {},
   "outputs": [],
   "source": [
    "ax = ir.pl.spectratype(adata[adata.obs[\"TRB_1_j_gene\"] != \"None\", :], groupby=\"TRB_1_cdr3\", target_col=\"TRB_1_j_gene\", fig_kws={\"dpi\": 120})\n",
    "ax.xaxis.set_tick_params(rotation=90)\n",
    "for tick in ax.xaxis.get_majorticklabels():\n",
    "    tick.set_horizontalalignment(\"center\")\n",
    "ax.set_title(\"Spectratype of primary TCR-β chain\")\n",
    "ax.set_xlabel(\"CDR3 sequence length\")\n",
    "fig = ax.get_figure()\n",
    "fig.savefig(\"figures/spectratype.svg\")"
   ]
  },
  {
   "cell_type": "code",
   "execution_count": null,
   "metadata": {},
   "outputs": [],
   "source": []
  }
 ],
 "metadata": {
  "jupytext": {
   "formats": "md,ipynb",
   "main_language": "python",
   "notebook_metadata_filter": "-kernelspec"
  },
  "kernelspec": {
   "display_name": "Python [conda env:.conda-scirpy]",
   "language": "python",
   "name": "conda-env-.conda-scirpy-py"
  },
  "language_info": {
   "codemirror_mode": {
    "name": "ipython",
    "version": 3
   },
   "file_extension": ".py",
   "mimetype": "text/x-python",
   "name": "python",
   "nbconvert_exporter": "python",
   "pygments_lexer": "ipython3",
   "version": "3.7.6"
  }
 },
 "nbformat": 4,
 "nbformat_minor": 4
}
